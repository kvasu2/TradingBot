{
 "cells": [
  {
   "cell_type": "code",
   "execution_count": 1,
   "id": "9cda251b",
   "metadata": {},
   "outputs": [],
   "source": [
    "import json\n",
    "\n",
    "# Open the file and read the content\n",
    "with open('api_key.txt', 'r') as f:\n",
    "    contents = f.read()\n",
    "\n",
    "# Convert the content to a dictionary\n",
    "api_keys = json.loads(contents)\n"
   ]
  },
  {
   "cell_type": "code",
   "execution_count": 2,
   "id": "dd069e93",
   "metadata": {},
   "outputs": [],
   "source": [
    "from alpaca.trading.client import TradingClient\n",
    "\n",
    "API_KEY = api_keys[\"PUBLIC_KEY\"]\n",
    "SECRET_KEY = api_keys[\"SECRET_KEY\"]\n",
    "\n",
    "trading_client = TradingClient(API_KEY, SECRET_KEY, paper=True)"
   ]
  },
  {
   "cell_type": "code",
   "execution_count": 4,
   "id": "24026dac",
   "metadata": {},
   "outputs": [],
   "source": [
    "account = trading_client.get_account()\n"
   ]
  },
  {
   "cell_type": "code",
   "execution_count": null,
   "id": "2ff84d2f",
   "metadata": {},
   "outputs": [],
   "source": []
  }
 ],
 "metadata": {
  "kernelspec": {
   "display_name": "Python 3 (ipykernel)",
   "language": "python",
   "name": "python3"
  },
  "language_info": {
   "codemirror_mode": {
    "name": "ipython",
    "version": 3
   },
   "file_extension": ".py",
   "mimetype": "text/x-python",
   "name": "python",
   "nbconvert_exporter": "python",
   "pygments_lexer": "ipython3",
   "version": "3.10.9"
  }
 },
 "nbformat": 4,
 "nbformat_minor": 5
}
