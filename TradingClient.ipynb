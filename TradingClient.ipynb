{
 "cells": [
  {
   "cell_type": "code",
   "execution_count": 8,
   "id": "9cda251b",
   "metadata": {},
   "outputs": [],
   "source": [
    "import json\n",
    "\n",
    "# Open the file and read the content\n",
    "with open('api_key.txt', 'r') as f:\n",
    "    contents = f.read()\n",
    "\n",
    "# Convert the content to a dictionary\n",
    "api_keys = json.loads(contents)\n"
   ]
  },
  {
   "cell_type": "code",
   "execution_count": null,
   "id": "715bb68c",
   "metadata": {},
   "outputs": [],
   "source": []
  },
  {
   "cell_type": "code",
   "execution_count": null,
   "id": "25231567",
   "metadata": {},
   "outputs": [],
   "source": []
  },
  {
   "cell_type": "code",
   "execution_count": 10,
   "id": "dd069e93",
   "metadata": {},
   "outputs": [],
   "source": [
    "from alpaca.trading.client import TradingClient\n",
    "\n",
    "API_KEY = api_keys[\"PUBLIC_KEY\"]\n",
    "SECRET_KEY = api_keys[\"SECRET_KEY\"]\n",
    "\n",
    "trading_client = TradingClient(API_KEY, SECRET_KEY, paper=True)"
   ]
  },
  {
   "cell_type": "code",
   "execution_count": 11,
   "id": "24026dac",
   "metadata": {},
   "outputs": [
    {
     "name": "stdout",
     "output_type": "stream",
     "text": [
      "\"id\": 72ca1821-b0da-4e29-bf58-4af2dacfe364\n",
      "\"account_number\": PA3H5P20TA1S\n",
      "\"status\": ACTIVE\n",
      "\"crypto_status\": ACTIVE\n",
      "\"currency\": USD\n",
      "\"buying_power\": 4000\n",
      "\"regt_buying_power\": 4000\n",
      "\"daytrading_buying_power\": 0\n",
      "\"non_marginable_buying_power\": 2000\n",
      "\"cash\": 2000\n",
      "\"accrued_fees\": 0\n",
      "\"pending_transfer_out\": None\n",
      "\"pending_transfer_in\": 0\n",
      "\"portfolio_value\": 2000\n",
      "\"pattern_day_trader\": False\n",
      "\"trading_blocked\": False\n",
      "\"transfers_blocked\": False\n",
      "\"account_blocked\": False\n",
      "\"created_at\": 2023-06-17 22:23:48.291324+00:00\n",
      "\"trade_suspended_by_user\": False\n",
      "\"multiplier\": 2\n",
      "\"shorting_enabled\": True\n",
      "\"equity\": 2000\n",
      "\"last_equity\": 2000\n",
      "\"long_market_value\": 0\n",
      "\"short_market_value\": 0\n",
      "\"initial_margin\": 0\n",
      "\"maintenance_margin\": 0\n",
      "\"last_maintenance_margin\": 0\n",
      "\"sma\": 0\n",
      "\"daytrade_count\": 0\n"
     ]
    }
   ],
   "source": [
    "account = trading_client.get_account()\n",
    "for property_name, value in account:\n",
    "  print(f\"\\\"{property_name}\\\": {value}\")"
   ]
  },
  {
   "cell_type": "code",
   "execution_count": null,
   "id": "2ff84d2f",
   "metadata": {},
   "outputs": [],
   "source": []
  }
 ],
 "metadata": {
  "kernelspec": {
   "display_name": "Python 3 (ipykernel)",
   "language": "python",
   "name": "python3"
  },
  "language_info": {
   "codemirror_mode": {
    "name": "ipython",
    "version": 3
   },
   "file_extension": ".py",
   "mimetype": "text/x-python",
   "name": "python",
   "nbconvert_exporter": "python",
   "pygments_lexer": "ipython3",
   "version": "3.10.9"
  }
 },
 "nbformat": 4,
 "nbformat_minor": 5
}
